{
  "nbformat": 4,
  "nbformat_minor": 0,
  "metadata": {
    "colab": {
      "provenance": [],
      "authorship_tag": "ABX9TyNWaFKwbrUXSC7pT9pH+VtX",
      "include_colab_link": true
    },
    "kernelspec": {
      "name": "python3",
      "display_name": "Python 3"
    },
    "language_info": {
      "name": "python"
    }
  },
  "cells": [
    {
      "cell_type": "markdown",
      "metadata": {
        "id": "view-in-github",
        "colab_type": "text"
      },
      "source": [
        "<a href=\"https://colab.research.google.com/github/coderjulio/Analise-de-Dados/blob/main/ETL_dados_yt.ipynb\" target=\"_parent\"><img src=\"https://colab.research.google.com/assets/colab-badge.svg\" alt=\"Open In Colab\"/></a>"
      ]
    },
    {
      "cell_type": "markdown",
      "source": [
        "#**PYTHON PARA ANÁLISE DE DADOS**\n",
        "\n",
        "SoulCode Academy\n",
        "\n",
        "Curso: PreparaTech - AD3\n",
        "\n",
        "Assunto: ETL\n",
        "\n",
        "Professor(a): Franciane Rodrigues\n",
        "\n",
        "Aluno(a): Júlio César Senestro\n",
        "\n"
      ],
      "metadata": {
        "id": "utAZepgWhvoc"
      }
    },
    {
      "cell_type": "markdown",
      "source": [
        "#**Dicionário de Dados**\n",
        "* Title: Título do vídeo.\n",
        "* Video ID: O identificador de vídeo.\n",
        "* Published At: A data em que o vídeo foi publicado YYYY-MM-DD.\n",
        "* Keyword: a palavra-chave associada ao vídeo.\n",
        "* Likes: o número de curtidas que o vídeo recebeu. Se este valor for -1, as curtidas não serão visíveis publicamente.\n",
        "* Comments: o número de comentários que o vídeo tem. Se esse valor for -1, o criador do vídeo desativou os comentários.\n",
        "* Views: o número de visualizações que o vídeo obteve.\n",
        "\n",
        "\n",
        "Mais informações: https://www.kaggle.com/datasets/advaypatil/youtube-statistics?select=videos-stats.csv"
      ],
      "metadata": {
        "id": "vVnG5FnLw-oF"
      }
    },
    {
      "cell_type": "markdown",
      "source": [
        "#**Abertura e extração de dados**"
      ],
      "metadata": {
        "id": "aCO7ZHlY1W7k"
      }
    },
    {
      "cell_type": "code",
      "execution_count": 1,
      "metadata": {
        "id": "i74l8L2Sc2uD"
      },
      "outputs": [],
      "source": [
        "# importando libs\n",
        "import pandas as pd"
      ]
    },
    {
      "cell_type": "code",
      "source": [
        "# Configurando a quantidade de colunas para aparecer no dataframe\n",
        "pd.set_option('display.max_columns', 100)"
      ],
      "metadata": {
        "id": "tx6UYgUJ2Xas"
      },
      "execution_count": 4,
      "outputs": []
    },
    {
      "cell_type": "code",
      "source": [
        "# Extração por Google Drive\n",
        "df = pd.read_csv(\"/content/Youtube_bruto.csv\")"
      ],
      "metadata": {
        "id": "kPCrDhe44Cl9"
      },
      "execution_count": 5,
      "outputs": []
    }
  ]
}